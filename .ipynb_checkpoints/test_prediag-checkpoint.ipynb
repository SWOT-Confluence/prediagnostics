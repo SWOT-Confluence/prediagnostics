{
 "cells": [
  {
   "cell_type": "code",
   "execution_count": 18,
   "id": "27645840-5ca0-4fda-969c-d2aa89e4c9f9",
   "metadata": {},
   "outputs": [],
   "source": [
    "#notebook to test prediagnostics in local environment\n",
    "\n",
    "# run_diagnostics <- function(input_dir, reaches_json, index, output_dir\n",
    "input_dir = '/nas/cee-water/cjgleason/nikki/confluence_runs/mnt/input/'\n",
    "# reaches_json='/nas/cee-water/cjgleason/travis/data/confluence_runs/devset_runs/prediagnostics_testing/jul_4/raw_mnt/input/reaches.json'\n",
    "reaches2='/nas/cee-water/cjgleason/nikki/confluence_runs/mnt/input/expanded_reaches_of_interest.json'\n",
    "output_dir= '/nas/cee-water/cjgleason/colin/'\n"
   ]
  },
  {
   "cell_type": "code",
   "execution_count": 19,
   "id": "a16350f3-9a42-49cc-8f8d-a8724361cbf5",
   "metadata": {},
   "outputs": [],
   "source": [
    "suppressMessages({library(dplyr)\n",
    "library(parallel)\n",
    "library(tidyr)\n",
    "library(ggplot2)\n",
    "library(rjson)})"
   ]
  },
  {
   "cell_type": "code",
   "execution_count": 20,
   "id": "7dd76276-d046-4c12-9ead-879a2ffd5b63",
   "metadata": {},
   "outputs": [],
   "source": [
    "\n",
    "json_data <- fromJSON(file=reaches2)\n",
    "\n",
    "# findit=function(json){\n",
    "#     if(json$reach_id==23267000071){return(1)}else{return(0)}\n",
    "    \n",
    "#     }\n",
    "# json_index=which(lapply(json_data,findit)==1)\n",
    "# json_data[[json_index]]"
   ]
  },
  {
   "cell_type": "code",
   "execution_count": 23,
   "id": "9c95e8a7-1c5e-4719-b9f8-a48cee8a6053",
   "metadata": {},
   "outputs": [
    {
     "data": {
      "text/html": [
       "<dl>\n",
       "\t<dt>$reach_id</dt>\n",
       "\t\t<dd>74267300231</dd>\n",
       "\t<dt>$sword</dt>\n",
       "\t\t<dd>'na_sword_v16_patch.nc'</dd>\n",
       "\t<dt>$swot</dt>\n",
       "\t\t<dd>'74267300231_SWOT.nc'</dd>\n",
       "\t<dt>$sos</dt>\n",
       "\t\t<dd>'na_sword_v16_SOS_priors.nc'</dd>\n",
       "</dl>\n"
      ],
      "text/latex": [
       "\\begin{description}\n",
       "\\item[\\$reach\\_id] 74267300231\n",
       "\\item[\\$sword] 'na\\_sword\\_v16\\_patch.nc'\n",
       "\\item[\\$swot] '74267300231\\_SWOT.nc'\n",
       "\\item[\\$sos] 'na\\_sword\\_v16\\_SOS\\_priors.nc'\n",
       "\\end{description}\n"
      ],
      "text/markdown": [
       "$reach_id\n",
       ":   74267300231\n",
       "$sword\n",
       ":   'na_sword_v16_patch.nc'\n",
       "$swot\n",
       ":   '74267300231_SWOT.nc'\n",
       "$sos\n",
       ":   'na_sword_v16_SOS_priors.nc'\n",
       "\n",
       "\n"
      ],
      "text/plain": [
       "$reach_id\n",
       "[1] 74267300231\n",
       "\n",
       "$sword\n",
       "[1] \"na_sword_v16_patch.nc\"\n",
       "\n",
       "$swot\n",
       "[1] \"74267300231_SWOT.nc\"\n",
       "\n",
       "$sos\n",
       "[1] \"na_sword_v16_SOS_priors.nc\"\n"
      ]
     },
     "metadata": {},
     "output_type": "display_data"
    },
    {
     "ename": "ERROR",
     "evalue": "Error in var.put.nc(r_grp, \"low_slope_flag\", reach_flags$reach_slope_flags): length(count) == ndims is not TRUE\n",
     "output_type": "error",
     "traceback": [
      "Error in var.put.nc(r_grp, \"low_slope_flag\", reach_flags$reach_slope_flags): length(count) == ndims is not TRUE\nTraceback:\n",
      "1. withCallingHandlers(expr, warning = function(w) if (inherits(w, \n .     classes)) tryInvokeRestart(\"muffleWarning\"))",
      "2. run_diagnostics(input_dir, reaches2, json_index, output_dir)",
      "3. write_data(reach_list, node_list, reach_flags, node_flags, reach_outliers, \n .     node_outliers, reach_dxa_flags, node_dxa_flags, reach_files$swot, \n .     output_dir, GLOBAL_PARAMS, data)",
      "4. record_results(output_dir, reach_list$reach_id, reach_flags, \n .     node_flags, reach_outliers, node_outliers, reach_dxa_flags, \n .     node_dxa_flags, data)",
      "5. write_reach_flags(r_grp, reach_flags, reach_outliers, reach_dxa_flags, \n .     fill)",
      "6. var.put.nc(r_grp, \"low_slope_flag\", reach_flags$reach_slope_flags)",
      "7. stopifnot(length(count) == ndims)",
      "8. stop(simpleError(msg, call = if (p <- sys.parent(1L)) sys.call(p)))"
     ]
    }
   ],
   "source": [
    "json_index=918\n",
    "json_data[[json_index]]\n",
    " source('/nas/cee-water/cjgleason/colin/prediagnostics/prediagnostics/prediagnostics.R')\n",
    "\n",
    "suppressWarnings({\n",
    "test=run_diagnostics(input_dir, reaches2,json_index, output_dir)})\n",
    "test"
   ]
  },
  {
   "cell_type": "code",
   "execution_count": null,
   "id": "95fe3b2b-5a5b-45b5-a810-df8f48c22c7b",
   "metadata": {},
   "outputs": [],
   "source": [
    "\n",
    "# prediagsin=open.nc(paste0('/nas/cee-water/cjgleason/colin/',json_data[[json_index]]$reach_id,'_prediagnostics.nc'))\n",
    "# prediags=read.nc(prediagsin,recursive=TRUE)\n",
    "# close.nc(prediagsin)\n",
    "\n",
    "# swotin=open.nc(paste0('/nas/cee-water/cjgleason/nikki/confluence_runs/mnt/input/swot/',\n",
    "#                       json_data[[json_index]]$reach_id,\n",
    "#                         '_SWOT.nc'))\n",
    "# swot=read.nc(swotin,recursive=TRUE)\n",
    "# close.nc(swotin)\n",
    "# swot$reach$slope\n",
    "# swot$reach$width\n",
    "# # swot$reach$slope2\n",
    "# which(!is.na(swot$node$width))\n",
    "#  swot$node$slope\n",
    "# # swot$node$slope2"
   ]
  },
  {
   "cell_type": "code",
   "execution_count": null,
   "id": "702131b4-bd81-4df8-8304-c69eff56f9e4",
   "metadata": {},
   "outputs": [],
   "source": [
    "paste0('/nas/cee-water/cjgleason/colin/',json_data[[json_index]]$reach_id,'_prediagnostics.nc')\n"
   ]
  },
  {
   "cell_type": "markdown",
   "id": "1a1a4efb-4dab-40e4-9c0c-19093c1cc5a1",
   "metadata": {},
   "source": [
    "nas/cee-water/cjgleason/colin/prediagnostics/prediagnostics/config.R\n",
    "source(\"/nas/cee-water/cjgleason/colin/prediagnostics/prediagnostics/config.R\")\n",
    "source(\"/nas/cee-water/cjgleason/colin/prediagnostics/prediagnostics/input.R\")\n",
    "source(\"/nas/cee-water/cjgleason/colin/prediagnostics/prediagnostics/prediagnostics.R\")\n",
    "source(\"/nas/cee-water/cjgleason/colin/prediagnostics/prediagnostics/output.R\")\n",
    "\n",
    " all_files_index=seq(1:length(list.files(paste0(input_dir,'swot/'))))\n",
    "\n",
    "# all_files_index=2\n",
    "\n",
    "# cl <- makeCluster(mc <- getOption(\"cl.cores\", 23))\n",
    "\n",
    "# all_flags=do.call(rbind,parLapply(cl,all_files_index, run_diagnostics,input_dir=input_dir,\n",
    "#                                reaches_json=reaches_json,output_dir= output_dir))\n",
    "\n",
    "# stopCluster(cl)"
   ]
  },
  {
   "cell_type": "code",
   "execution_count": null,
   "id": "c849eda4-9c8d-435f-89f2-bb4f46e25499",
   "metadata": {},
   "outputs": [],
   "source": [
    "4194304 + 8388608 + 16777216 + 33554432 + 67108864 + 134217728 + 268435456"
   ]
  },
  {
   "cell_type": "code",
   "execution_count": null,
   "id": "08d699c6-afc9-4334-a29a-2518e84649a7",
   "metadata": {},
   "outputs": [],
   "source": [
    "target_bit_in=  168298510\n",
    "\n",
    "target_vector= +(bitwAnd(target_bit_in, 2^seq(0,28))>0)\n",
    "target_flags=which(target_vector ==1)\n",
    "\n",
    "bitwise_in=6\n",
    "this_vector= (+(bitwAnd(bitwise_in, 2^seq(0,28))>0))\n",
    "this_flags=which(this_vector == 1)\n",
    "\n",
    "bitfail= any(this_flags %in% target_flags)\n",
    "\n",
    "print(paste('target bit=',target_bit_in))\n",
    "print('as vector')\n",
    "print(target_vector)\n",
    "print(paste('flag',target_flags,'is set'))\n",
    "print('   ')\n",
    "\n",
    "print(paste('example bit=',bitwise_in))\n",
    "print('as vector')\n",
    "print(this_vector)\n",
    "print(paste('flag',this_flags,'is set'))\n",
    "print(' ')\n",
    "\n",
    "print('are any example flags in the target set?')\n",
    "print(bitfail)\n"
   ]
  },
  {
   "cell_type": "code",
   "execution_count": null,
   "id": "81f56774-2588-4781-a582-33bb09e55f17",
   "metadata": {},
   "outputs": [],
   "source": [
    " swotin=open.nc('/home/cjgleason_umass_edu/78299700161_prediagnostics.nc')\n",
    "swot=read.nc(swotin,recursive=TRUE)\n",
    "    close.nc(swotin)\n"
   ]
  },
  {
   "cell_type": "code",
   "execution_count": null,
   "id": "bbd64662-fef9-4a06-b649-af118de41c87",
   "metadata": {},
   "outputs": [],
   "source": []
  },
  {
   "cell_type": "code",
   "execution_count": null,
   "id": "7d362c5b-a556-4fe4-879a-2f4579aea851",
   "metadata": {},
   "outputs": [],
   "source": [
    "library(RNetCDF)\n",
    "swotin=open.nc('/nas/cee-water/cjgleason/nikki/confluence_runs/devsets_ohio_permissive_fixed_slopes/sos/eu_sword_v16_SOS_priors.nc')\n",
    "swot=read.nc(swotin,recursive=TRUE)\n",
    "close.nc(swotin)"
   ]
  },
  {
   "cell_type": "code",
   "execution_count": null,
   "id": "619d89a5-a370-45c1-bc2b-f35f07197c2a",
   "metadata": {},
   "outputs": [],
   "source": [
    "# names(swot$DEFRA)\n",
    "\n",
    "# swot$DEFRA$DEFRA_qt"
   ]
  },
  {
   "cell_type": "code",
   "execution_count": null,
   "id": "e7bf3ae2-6b52-4249-a3e4-7e771551b3c7",
   "metadata": {},
   "outputs": [],
   "source": [
    "plotter=gather(plot_flags,stat,value)%>%\n",
    "filter(stat != 'ntot')\n",
    "\n",
    "p1=ggplot(plotter)+\n",
    " stat_ecdf(aes(x=value,col=stat)) +\n",
    "    ylab('CDF')+\n",
    "    xlab(\"Percent ELIMINATED\")+\n",
    "    # ylim(c(0,1))+\n",
    "    # coord_cartesian(xlim=c(0, 2))+\n",
    "    theme_bw() +\n",
    "      theme(legend.text=element_text(size=12),\n",
    "        legend.title=element_blank(),\n",
    "            \n",
    "        #legend.position =c(0.8,0.8),\n",
    "        axis.text.y= element_text(size=12),\n",
    "        #legend.position = 'none',\n",
    "        axis.text.x =element_text(size=12),\n",
    "        #axis.text.x=element_blank(),\n",
    "        axis.title.x= element_text(size=12),\n",
    "            axis.title.y= element_text(size=12),\n",
    "        #panel.grid.major = element_line(colour = \"grey50\"),\n",
    "        plot.title = element_text(color=\"black\", size=12, face=\"bold.italic\")) \n",
    "       # legend.background = element_rect(fill=alpha('white',0.8)))\n",
    "        #axis.text.x = element_text(angle =45, vjust = 1, hjust=1))\n",
    "\n",
    "plot(p1)"
   ]
  }
 ],
 "metadata": {
  "kernelspec": {
   "display_name": "R [conda env:.conda-lightweight]",
   "language": "R",
   "name": "conda-env-.conda-lightweight-r"
  },
  "language_info": {
   "codemirror_mode": "r",
   "file_extension": ".r",
   "mimetype": "text/x-r-source",
   "name": "R",
   "pygments_lexer": "r",
   "version": "4.3.3"
  }
 },
 "nbformat": 4,
 "nbformat_minor": 5
}
